{
 "cells": [
  {
   "cell_type": "code",
   "execution_count": 46,
   "id": "91a0bdcd",
   "metadata": {},
   "outputs": [],
   "source": [
    "my_adj={\n",
    "    'start':['a','b'],\n",
    "    'a':['start','e','f'],\n",
    "    'b':['start','d','c'],\n",
    "    'c':['b'],\n",
    "    'd':['b','goal'],\n",
    "    'e':['b','g'],\n",
    "    'f':['b'],\n",
    "    'g':['e'],\n",
    "    'goal':['g']\n",
    "}"
   ]
  },
  {
   "cell_type": "markdown",
   "id": "a8f23de5",
   "metadata": {},
   "source": [
    "# queue operation\n",
    "    *enqueue\n",
    "    *dequeue\n",
    "    *size\n",
    "    *front\n",
    "    *rear"
   ]
  },
  {
   "cell_type": "code",
   "execution_count": 47,
   "id": "68e10d30",
   "metadata": {},
   "outputs": [],
   "source": [
    "from collections import deque\n",
    "def bfs(my_adj,Start,goal):\n",
    "    visited=[]\n",
    "    queue=deque([Start])\n",
    "    while queue:\n",
    "        node=queue.popleft()\n",
    "        if node not in visited:\n",
    "            visited.append(node)\n",
    "            print(\"i have visited\",node)\n",
    "            neighbour=my_adj[node]\n",
    "            if node==goal:\n",
    "                return(\"i have reached the goal,this is travesed path :\",visited)\n",
    "            for neighbour in neighbour:\n",
    "                queue.append(neighbour)"
   ]
  },
  {
   "cell_type": "code",
   "execution_count": 48,
   "id": "d51a111a",
   "metadata": {},
   "outputs": [
    {
     "name": "stdout",
     "output_type": "stream",
     "text": [
      "i have visited start\n",
      "i have visited a\n",
      "i have visited b\n",
      "i have visited e\n",
      "i have visited f\n",
      "i have visited d\n",
      "i have visited c\n",
      "i have visited g\n",
      "i have visited goal\n"
     ]
    },
    {
     "data": {
      "text/plain": [
       "('i have reached the goal,this is travesed path :',\n",
       " ['start', 'a', 'b', 'e', 'f', 'd', 'c', 'g', 'goal'])"
      ]
     },
     "execution_count": 48,
     "metadata": {},
     "output_type": "execute_result"
    }
   ],
   "source": [
    "bfs(my_adj,'start','goal')"
   ]
  },
  {
   "cell_type": "code",
   "execution_count": null,
   "id": "0fb033e3",
   "metadata": {},
   "outputs": [],
   "source": []
  },
  {
   "cell_type": "code",
   "execution_count": null,
   "id": "1d662fbb",
   "metadata": {},
   "outputs": [],
   "source": []
  }
 ],
 "metadata": {
  "kernelspec": {
   "display_name": "Python 3 (ipykernel)",
   "language": "python",
   "name": "python3"
  },
  "language_info": {
   "codemirror_mode": {
    "name": "ipython",
    "version": 3
   },
   "file_extension": ".py",
   "mimetype": "text/x-python",
   "name": "python",
   "nbconvert_exporter": "python",
   "pygments_lexer": "ipython3",
   "version": "3.9.13"
  }
 },
 "nbformat": 4,
 "nbformat_minor": 5
}
