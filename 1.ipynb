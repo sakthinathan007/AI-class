{
 "cells": [
  {
   "cell_type": "markdown",
   "id": "633c67de",
   "metadata": {},
   "source": [
    "# cse\n",
    "## cse\n",
    "### cse\n"
   ]
  },
  {
   "cell_type": "code",
   "execution_count": 2,
   "id": "5c0a3330",
   "metadata": {},
   "outputs": [],
   "source": [
    "a=10"
   ]
  },
  {
   "cell_type": "code",
   "execution_count": 3,
   "id": "0d3b3b98",
   "metadata": {},
   "outputs": [
    {
     "data": {
      "text/plain": [
       "10"
      ]
     },
     "execution_count": 3,
     "metadata": {},
     "output_type": "execute_result"
    }
   ],
   "source": [
    "a"
   ]
  },
  {
   "cell_type": "code",
   "execution_count": 4,
   "id": "93017821",
   "metadata": {},
   "outputs": [],
   "source": [
    "CLASS=\"PMIST B_TECH CSE\""
   ]
  },
  {
   "cell_type": "code",
   "execution_count": 5,
   "id": "789ebd19",
   "metadata": {},
   "outputs": [
    {
     "data": {
      "text/plain": [
       "'PMIST B_TECH CSE'"
      ]
     },
     "execution_count": 5,
     "metadata": {},
     "output_type": "execute_result"
    }
   ],
   "source": [
    "CLASS"
   ]
  },
  {
   "cell_type": "code",
   "execution_count": 1,
   "id": "5d171096",
   "metadata": {},
   "outputs": [],
   "source": [
    "NAME=\"NARUTO\""
   ]
  }
 ],
 "metadata": {
  "kernelspec": {
   "display_name": "Python 3 (ipykernel)",
   "language": "python",
   "name": "python3"
  },
  "language_info": {
   "codemirror_mode": {
    "name": "ipython",
    "version": 3
   },
   "file_extension": ".py",
   "mimetype": "text/x-python",
   "name": "python",
   "nbconvert_exporter": "python",
   "pygments_lexer": "ipython3",
   "version": "3.9.13"
  }
 },
 "nbformat": 4,
 "nbformat_minor": 5
}
