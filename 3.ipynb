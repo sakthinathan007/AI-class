{
 "cells": [
  {
   "cell_type": "markdown",
   "id": "6cecffc8",
   "metadata": {},
   "source": [
    "# CONDITIONAL STATEMENTS\n"
   ]
  },
  {
   "cell_type": "markdown",
   "id": "874a7388",
   "metadata": {},
   "source": [
    "### IF STATEMENT\n",
    "SUDO CODE                                                                                    \n",
    "if (condition):                                                                              \n",
    " (statement)                                                                                                                   \n",
    "else:                                                                                                        \n",
    " (statement)                                                                                            \n"
   ]
  },
  {
   "cell_type": "code",
   "execution_count": 8,
   "id": "cb236eae",
   "metadata": {},
   "outputs": [],
   "source": [
    "a=25"
   ]
  },
  {
   "cell_type": "code",
   "execution_count": 9,
   "id": "3e9374ba",
   "metadata": {},
   "outputs": [],
   "source": [
    "b=-15"
   ]
  },
  {
   "cell_type": "code",
   "execution_count": 6,
   "id": "d8348121",
   "metadata": {},
   "outputs": [
    {
     "name": "stdout",
     "output_type": "stream",
     "text": [
      "a is negative,b is positive\n"
     ]
    }
   ],
   "source": [
    "if(a>0&b>0):\n",
    "    print(\"a is positive,b is negative\")\n",
    "else:\n",
    "    print(\"a is negative,b is positive\")\n",
    " "
   ]
  },
  {
   "cell_type": "code",
   "execution_count": 14,
   "id": "c91b215d",
   "metadata": {},
   "outputs": [],
   "source": [
    "c=10"
   ]
  },
  {
   "cell_type": "code",
   "execution_count": 18,
   "id": "536766fc",
   "metadata": {},
   "outputs": [],
   "source": [
    "d=20"
   ]
  },
  {
   "cell_type": "code",
   "execution_count": 21,
   "id": "cbbddc6a",
   "metadata": {},
   "outputs": [],
   "source": [
    "e=c+d"
   ]
  },
  {
   "cell_type": "code",
   "execution_count": 22,
   "id": "fb2f17eb",
   "metadata": {},
   "outputs": [
    {
     "name": "stdout",
     "output_type": "stream",
     "text": [
      "30\n"
     ]
    }
   ],
   "source": [
    "if(e==c+d):\n",
    "    print(e)\n",
    "else:\n",
    "    1"
   ]
  },
  {
   "cell_type": "markdown",
   "id": "86b24eda",
   "metadata": {},
   "source": [
    "### Ticket Booking Using If"
   ]
  },
  {
   "cell_type": "code",
   "execution_count": 6,
   "id": "645269de",
   "metadata": {},
   "outputs": [
    {
     "name": "stdout",
     "output_type": "stream",
     "text": [
      "Balcony-A,First class-B,Low Class-C : A\n",
      "You Selected 'Balcony'.The Ticket rate is 200\n"
     ]
    }
   ],
   "source": [
    "Ticket_Booking={\"A\":200,\"B\":150,\"C\":100}\n",
    "Class=input(\"Balcony-A,First class-B,Low Class-C : \")\n",
    "if Class==\"A\":\n",
    "    print(\"You Selected 'Balcony'.The Ticket rate is {}\".format(Ticket_Booking[\"A\"]))\n",
    "elif Class==\"B\":\n",
    "    print(\"You Selected 'First Class'.The Ticket rate is {}\".format(Ticket_Booking[\"B\"]))\n",
    "elif Class==\"C\":\n",
    "    print(\"You Selected 'Low Class'.The Ticket rate is {}\".format(Ticket_Booking[\"C\"]))\n",
    "else:\n",
    "    print(\"Invalid\")"
   ]
  },
  {
   "cell_type": "markdown",
   "id": "a6b29a09",
   "metadata": {},
   "source": [
    "### LOOPING STATEMENT"
   ]
  },
  {
   "cell_type": "code",
   "execution_count": 7,
   "id": "0c55530a",
   "metadata": {},
   "outputs": [
    {
     "name": "stdout",
     "output_type": "stream",
     "text": [
      "0\n",
      "1\n",
      "2\n",
      "3\n",
      "4\n",
      "5\n",
      "6\n",
      "7\n",
      "8\n",
      "9\n"
     ]
    }
   ],
   "source": [
    "for S in range(0,10):\n",
    "    print(S)"
   ]
  },
  {
   "cell_type": "code",
   "execution_count": 29,
   "id": "e4079762",
   "metadata": {},
   "outputs": [
    {
     "name": "stdout",
     "output_type": "stream",
     "text": [
      "Enter a number : 4\n",
      "4 is not a prime number\n",
      "2 times 2 is 4\n"
     ]
    }
   ],
   "source": [
    "number = int(input(\"Enter a number : \"))\n",
    "if number > 1:\n",
    "    for i in range(2,number):\n",
    "        if (number % i) == 0:\n",
    "            print(number,\"is not a prime number\")\n",
    "            print(i,\"times\",number//i,\"is\",number)\n",
    "            break\n",
    "    else:\n",
    "        print(number,\"is a prime number\")\n",
    "else:\n",
    "    print(number,\"is not a prime number\")"
   ]
  },
  {
   "cell_type": "code",
   "execution_count": null,
   "id": "077f0d5d",
   "metadata": {},
   "outputs": [],
   "source": []
  }
 ],
 "metadata": {
  "kernelspec": {
   "display_name": "Python 3 (ipykernel)",
   "language": "python",
   "name": "python3"
  },
  "language_info": {
   "codemirror_mode": {
    "name": "ipython",
    "version": 3
   },
   "file_extension": ".py",
   "mimetype": "text/x-python",
   "name": "python",
   "nbconvert_exporter": "python",
   "pygments_lexer": "ipython3",
   "version": "3.9.13"
  }
 },
 "nbformat": 4,
 "nbformat_minor": 5
}
