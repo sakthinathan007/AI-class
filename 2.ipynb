{
 "cells": [
  {
   "cell_type": "code",
   "execution_count": 4,
   "id": "0350aa28",
   "metadata": {},
   "outputs": [
    {
     "name": "stdout",
     "output_type": "stream",
     "text": [
      "this is AI class\n"
     ]
    }
   ],
   "source": [
    "print(\"this is {} class\".format('AI'))"
   ]
  },
  {
   "cell_type": "code",
   "execution_count": 18,
   "id": "35adbfbd",
   "metadata": {},
   "outputs": [
    {
     "name": "stdout",
     "output_type": "stream",
     "text": [
      "I Am Faris I Am Studying In Pmist second year Cse \n"
     ]
    }
   ],
   "source": [
    "print(\"I Am {} I Am Studying In {} second year {} \".format('Faris','Pmist','Cse'))"
   ]
  },
  {
   "cell_type": "code",
   "execution_count": 9,
   "id": "80844ea5",
   "metadata": {},
   "outputs": [
    {
     "name": "stdout",
     "output_type": "stream",
     "text": [
      "Wake Up To Reality Nothing Ever Goes As Planned In this World\n"
     ]
    }
   ],
   "source": [
    "print(\"Wake Up To {} Nothing Ever Goes As {} In this {}\".format('Reality','Planned','World'))"
   ]
  },
  {
   "cell_type": "code",
   "execution_count": 10,
   "id": "a92c12c5",
   "metadata": {},
   "outputs": [
    {
     "name": "stdout",
     "output_type": "stream",
     "text": [
      "If You Are Bad Iam Your Dad\n"
     ]
    }
   ],
   "source": [
    "print(\"If You Are {} Iam Your {}\".format('Bad','Dad'))"
   ]
  },
  {
   "cell_type": "code",
   "execution_count": 15,
   "id": "27b07dc8",
   "metadata": {},
   "outputs": [],
   "source": [
    "name=\"Naruto Uzumaki\"\n",
    "aim=\"Hokage\"\n",
    "number=\"106\""
   ]
  },
  {
   "cell_type": "code",
   "execution_count": 17,
   "id": "3c800099",
   "metadata": {},
   "outputs": [
    {
     "name": "stdout",
     "output_type": "stream",
     "text": [
      "My Name is Naruto Uzumaki I am gonna be Hokage someday my favourite number is 106 \n"
     ]
    }
   ],
   "source": [
    "print(\"My Name is {} I am gonna be {} someday my favourite number is {} \".format(name,aim,number))"
   ]
  },
  {
   "cell_type": "code",
   "execution_count": 1,
   "id": "19e9cfbb",
   "metadata": {},
   "outputs": [],
   "source": [
    "name=\"kakashi\"\n",
    "nick=\"The copy ninja\"\n",
    "dialogue=\"thousand jutsu\"\n"
   ]
  },
  {
   "cell_type": "code",
   "execution_count": 2,
   "id": "728567f8",
   "metadata": {},
   "outputs": [
    {
     "name": "stdout",
     "output_type": "stream",
     "text": [
      "i am kakashi The copy ninja i know a thousand jutsu now i use them all\n"
     ]
    }
   ],
   "source": [
    "print(\"i am {} {} i know a {} now i use them all\".format(name,nick,dialogue))"
   ]
  },
  {
   "cell_type": "markdown",
   "id": "c4b489f7",
   "metadata": {},
   "source": [
    "#  DATA TYPE IN PYTHON"
   ]
  },
  {
   "cell_type": "raw",
   "id": "2ad647d6",
   "metadata": {},
   "source": [
    "numeric - integer,Float,Complex\n",
    "string - string/character\n",
    "sequence - array,List,Tuple,Range\n",
    "mapping - dictionary\n",
    "Set - set,frozen set\n",
    "boolean\n",
    "binary - Byte,Byte array,memoryview"
   ]
  },
  {
   "cell_type": "code",
   "execution_count": 26,
   "id": "b0898043",
   "metadata": {},
   "outputs": [],
   "source": [
    "clan_members=['Naruto','Luffy','Goku']"
   ]
  },
  {
   "cell_type": "code",
   "execution_count": 27,
   "id": "e24c2e43",
   "metadata": {},
   "outputs": [
    {
     "data": {
      "text/plain": [
       "list"
      ]
     },
     "execution_count": 27,
     "metadata": {},
     "output_type": "execute_result"
    }
   ],
   "source": [
    "type(clan_members)"
   ]
  },
  {
   "cell_type": "code",
   "execution_count": 28,
   "id": "05d5e564",
   "metadata": {},
   "outputs": [
    {
     "data": {
      "text/plain": [
       "'Naruto'"
      ]
     },
     "execution_count": 28,
     "metadata": {},
     "output_type": "execute_result"
    }
   ],
   "source": [
    "clan_members[0]"
   ]
  },
  {
   "cell_type": "code",
   "execution_count": 29,
   "id": "a5706949",
   "metadata": {},
   "outputs": [
    {
     "data": {
      "text/plain": [
       "'Luffy'"
      ]
     },
     "execution_count": 29,
     "metadata": {},
     "output_type": "execute_result"
    }
   ],
   "source": [
    "clan_members[1]"
   ]
  },
  {
   "cell_type": "code",
   "execution_count": 30,
   "id": "c32ed20e",
   "metadata": {},
   "outputs": [
    {
     "data": {
      "text/plain": [
       "'Goku'"
      ]
     },
     "execution_count": 30,
     "metadata": {},
     "output_type": "execute_result"
    }
   ],
   "source": [
    "clan_members[2]"
   ]
  },
  {
   "cell_type": "code",
   "execution_count": 21,
   "id": "30bffaca",
   "metadata": {},
   "outputs": [],
   "source": [
    "ninja_details=('kakashi',106,'anbu blackops')"
   ]
  },
  {
   "cell_type": "code",
   "execution_count": 40,
   "id": "163377dc",
   "metadata": {},
   "outputs": [
    {
     "name": "stdout",
     "output_type": "stream",
     "text": [
      "Name : kakashi\n",
      " Reg no : 106\n",
      " Job : anbu blackops\n"
     ]
    }
   ],
   "source": [
    "print(\"Name : {}\\n Reg no : {}\\n Job : {}\".format(ninja_details[0],ninja_details[1],ninja_details[2]))"
   ]
  },
  {
   "cell_type": "code",
   "execution_count": 41,
   "id": "d43c88a0",
   "metadata": {},
   "outputs": [
    {
     "data": {
      "text/plain": [
       "('kakashi', 106, 'anbu blackops')"
      ]
     },
     "execution_count": 41,
     "metadata": {},
     "output_type": "execute_result"
    }
   ],
   "source": [
    "ninja_details"
   ]
  },
  {
   "cell_type": "markdown",
   "id": "ed591f1c",
   "metadata": {},
   "source": [
    "# TUPLE"
   ]
  },
  {
   "cell_type": "code",
   "execution_count": 16,
   "id": "cb886b9d",
   "metadata": {},
   "outputs": [],
   "source": [
    "Hero_details=(\"Light Yagami\",37,\"shinigami\")"
   ]
  },
  {
   "cell_type": "code",
   "execution_count": 17,
   "id": "1273844b",
   "metadata": {},
   "outputs": [
    {
     "data": {
      "text/plain": [
       "tuple"
      ]
     },
     "execution_count": 17,
     "metadata": {},
     "output_type": "execute_result"
    }
   ],
   "source": [
    "type(Hero_details)"
   ]
  },
  {
   "cell_type": "code",
   "execution_count": 18,
   "id": "0af3ba3a",
   "metadata": {},
   "outputs": [
    {
     "data": {
      "text/plain": [
       "('Light Yagami', 37, 'shinigami')"
      ]
     },
     "execution_count": 18,
     "metadata": {},
     "output_type": "execute_result"
    }
   ],
   "source": [
    "Hero_details"
   ]
  },
  {
   "cell_type": "markdown",
   "id": "5bd03f1f",
   "metadata": {},
   "source": [
    "# Range \n",
    "avr=range(start,end,step)\n"
   ]
  },
  {
   "cell_type": "code",
   "execution_count": 8,
   "id": "69a26be8",
   "metadata": {},
   "outputs": [],
   "source": [
    "avr=range(0,100,10)"
   ]
  },
  {
   "cell_type": "code",
   "execution_count": 9,
   "id": "e3089778",
   "metadata": {},
   "outputs": [
    {
     "data": {
      "text/plain": [
       "range(0, 100, 10)"
      ]
     },
     "execution_count": 9,
     "metadata": {},
     "output_type": "execute_result"
    }
   ],
   "source": [
    "avr"
   ]
  },
  {
   "cell_type": "code",
   "execution_count": 57,
   "id": "e088c29e",
   "metadata": {},
   "outputs": [
    {
     "data": {
      "text/plain": [
       "[0, 10, 20, 30, 40, 50, 60, 70, 80, 90]"
      ]
     },
     "execution_count": 57,
     "metadata": {},
     "output_type": "execute_result"
    }
   ],
   "source": [
    "list(avr)"
   ]
  },
  {
   "cell_type": "code",
   "execution_count": 22,
   "id": "ba4764c7",
   "metadata": {},
   "outputs": [],
   "source": [
    "name=[\"anash\",\"hasan\",\"sakthi\"]"
   ]
  },
  {
   "cell_type": "code",
   "execution_count": 23,
   "id": "cc561d87",
   "metadata": {},
   "outputs": [
    {
     "data": {
      "text/plain": [
       "list"
      ]
     },
     "execution_count": 23,
     "metadata": {},
     "output_type": "execute_result"
    }
   ],
   "source": [
    "type(name)"
   ]
  },
  {
   "cell_type": "code",
   "execution_count": 24,
   "id": "bd057dc3",
   "metadata": {},
   "outputs": [
    {
     "data": {
      "text/plain": [
       "['anash', 'hasan', 'sakthi']"
      ]
     },
     "execution_count": 24,
     "metadata": {},
     "output_type": "execute_result"
    }
   ],
   "source": [
    "name"
   ]
  },
  {
   "cell_type": "code",
   "execution_count": 31,
   "id": "f1b9e486",
   "metadata": {},
   "outputs": [],
   "source": [
    "Name=(\"hasan\",19)"
   ]
  },
  {
   "cell_type": "code",
   "execution_count": 32,
   "id": "6f3d434d",
   "metadata": {},
   "outputs": [
    {
     "data": {
      "text/plain": [
       "tuple"
      ]
     },
     "execution_count": 32,
     "metadata": {},
     "output_type": "execute_result"
    }
   ],
   "source": [
    "type(Name)"
   ]
  },
  {
   "cell_type": "code",
   "execution_count": 33,
   "id": "5f7ab7aa",
   "metadata": {
    "scrolled": true
   },
   "outputs": [
    {
     "data": {
      "text/plain": [
       "('hasan', 19)"
      ]
     },
     "execution_count": 33,
     "metadata": {},
     "output_type": "execute_result"
    }
   ],
   "source": [
    "Name"
   ]
  },
  {
   "cell_type": "code",
   "execution_count": 42,
   "id": "2103123e",
   "metadata": {},
   "outputs": [],
   "source": [
    "avr=range(0,100,5)"
   ]
  },
  {
   "cell_type": "code",
   "execution_count": 43,
   "id": "749ef389",
   "metadata": {},
   "outputs": [
    {
     "data": {
      "text/plain": [
       "range(0, 100, 5)"
      ]
     },
     "execution_count": 43,
     "metadata": {},
     "output_type": "execute_result"
    }
   ],
   "source": [
    "avr"
   ]
  },
  {
   "cell_type": "code",
   "execution_count": 44,
   "id": "90929482",
   "metadata": {},
   "outputs": [
    {
     "data": {
      "text/plain": [
       "[0, 5, 10, 15, 20, 25, 30, 35, 40, 45, 50, 55, 60, 65, 70, 75, 80, 85, 90, 95]"
      ]
     },
     "execution_count": 44,
     "metadata": {},
     "output_type": "execute_result"
    }
   ],
   "source": [
    "list(avr)"
   ]
  },
  {
   "cell_type": "markdown",
   "id": "8f96363e",
   "metadata": {},
   "source": [
    "# DICTIONARY \n",
    " dicti(keyvalue)"
   ]
  },
  {
   "cell_type": "code",
   "execution_count": 48,
   "id": "85471b69",
   "metadata": {},
   "outputs": [],
   "source": [
    "student_details={\"Name\":\"Hasan\",\"dept\":\"CSE\",\"age\":19,\"year\":2}"
   ]
  },
  {
   "cell_type": "code",
   "execution_count": 49,
   "id": "fb15fe7e",
   "metadata": {},
   "outputs": [
    {
     "data": {
      "text/plain": [
       "dict"
      ]
     },
     "execution_count": 49,
     "metadata": {},
     "output_type": "execute_result"
    }
   ],
   "source": [
    "type(student_details)"
   ]
  },
  {
   "cell_type": "code",
   "execution_count": 50,
   "id": "f954fcb3",
   "metadata": {},
   "outputs": [
    {
     "data": {
      "text/plain": [
       "{'Name': 'Hasan', 'dept': 'CSE', 'age': 19, 'year': 2}"
      ]
     },
     "execution_count": 50,
     "metadata": {},
     "output_type": "execute_result"
    }
   ],
   "source": [
    "student_details"
   ]
  },
  {
   "cell_type": "markdown",
   "id": "9d649be5",
   "metadata": {},
   "source": [
    "# SET\n",
    "set,frozen set"
   ]
  },
  {
   "cell_type": "code",
   "execution_count": 79,
   "id": "5427e03d",
   "metadata": {},
   "outputs": [],
   "source": [
    "test={17,16,36,35,\"ravi\"}"
   ]
  },
  {
   "cell_type": "code",
   "execution_count": 80,
   "id": "2386ef5b",
   "metadata": {},
   "outputs": [
    {
     "data": {
      "text/plain": [
       "set"
      ]
     },
     "execution_count": 80,
     "metadata": {},
     "output_type": "execute_result"
    }
   ],
   "source": [
    "type(test)"
   ]
  },
  {
   "cell_type": "code",
   "execution_count": 81,
   "id": "57495d4f",
   "metadata": {},
   "outputs": [
    {
     "data": {
      "text/plain": [
       "{16, 17, 35, 36, 'ravi'}"
      ]
     },
     "execution_count": 81,
     "metadata": {},
     "output_type": "execute_result"
    }
   ],
   "source": [
    "test"
   ]
  },
  {
   "cell_type": "code",
   "execution_count": 88,
   "id": "5db9ed6c",
   "metadata": {},
   "outputs": [],
   "source": [
    "test2=frozenset({10,20,20,30,\"pmist\"})"
   ]
  },
  {
   "cell_type": "code",
   "execution_count": 89,
   "id": "3cb6c97e",
   "metadata": {},
   "outputs": [
    {
     "data": {
      "text/plain": [
       "frozenset"
      ]
     },
     "execution_count": 89,
     "metadata": {},
     "output_type": "execute_result"
    }
   ],
   "source": [
    "type(test2)"
   ]
  },
  {
   "cell_type": "code",
   "execution_count": 90,
   "id": "4ceba465",
   "metadata": {},
   "outputs": [
    {
     "data": {
      "text/plain": [
       "frozenset({10, 20, 30, 'pmist'})"
      ]
     },
     "execution_count": 90,
     "metadata": {},
     "output_type": "execute_result"
    }
   ],
   "source": [
    "test2"
   ]
  },
  {
   "cell_type": "markdown",
   "id": "5176e549",
   "metadata": {},
   "source": [
    "# Boolean"
   ]
  },
  {
   "cell_type": "code",
   "execution_count": 86,
   "id": "84b0857f",
   "metadata": {},
   "outputs": [
    {
     "data": {
      "text/plain": [
       "False"
      ]
     },
     "execution_count": 86,
     "metadata": {},
     "output_type": "execute_result"
    }
   ],
   "source": [
    "10>100"
   ]
  },
  {
   "cell_type": "code",
   "execution_count": 87,
   "id": "a1ecdda9",
   "metadata": {},
   "outputs": [
    {
     "data": {
      "text/plain": [
       "True"
      ]
     },
     "execution_count": 87,
     "metadata": {},
     "output_type": "execute_result"
    }
   ],
   "source": [
    "1<2"
   ]
  },
  {
   "cell_type": "code",
   "execution_count": 92,
   "id": "0625e1d9",
   "metadata": {},
   "outputs": [
    {
     "data": {
      "text/plain": [
       "False"
      ]
     },
     "execution_count": 92,
     "metadata": {},
     "output_type": "execute_result"
    }
   ],
   "source": [
    "10-5==15"
   ]
  },
  {
   "cell_type": "code",
   "execution_count": 98,
   "id": "7a5b8c69",
   "metadata": {},
   "outputs": [],
   "source": [
    "a=10"
   ]
  },
  {
   "cell_type": "code",
   "execution_count": 99,
   "id": "098603e3",
   "metadata": {},
   "outputs": [],
   "source": [
    "b=20"
   ]
  },
  {
   "cell_type": "code",
   "execution_count": 100,
   "id": "8e5904bc",
   "metadata": {},
   "outputs": [
    {
     "data": {
      "text/plain": [
       "True"
      ]
     },
     "execution_count": 100,
     "metadata": {},
     "output_type": "execute_result"
    }
   ],
   "source": [
    "a+b==30"
   ]
  },
  {
   "cell_type": "code",
   "execution_count": 101,
   "id": "52dea3b0",
   "metadata": {},
   "outputs": [
    {
     "data": {
      "text/plain": [
       "False"
      ]
     },
     "execution_count": 101,
     "metadata": {},
     "output_type": "execute_result"
    }
   ],
   "source": [
    "a+b==10"
   ]
  },
  {
   "cell_type": "code",
   "execution_count": null,
   "id": "c6f717f2",
   "metadata": {},
   "outputs": [],
   "source": []
  }
 ],
 "metadata": {
  "kernelspec": {
   "display_name": "Python 3 (ipykernel)",
   "language": "python",
   "name": "python3"
  },
  "language_info": {
   "codemirror_mode": {
    "name": "ipython",
    "version": 3
   },
   "file_extension": ".py",
   "mimetype": "text/x-python",
   "name": "python",
   "nbconvert_exporter": "python",
   "pygments_lexer": "ipython3",
   "version": "3.9.13"
  }
 },
 "nbformat": 4,
 "nbformat_minor": 5
}
