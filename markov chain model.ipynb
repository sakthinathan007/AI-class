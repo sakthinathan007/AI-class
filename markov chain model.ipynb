{
  "nbformat": 4,
  "nbformat_minor": 0,
  "metadata": {
    "colab": {
      "provenance": []
    },
    "kernelspec": {
      "name": "python3",
      "display_name": "Python 3"
    },
    "language_info": {
      "name": "python"
    }
  },
  "cells": [
    {
      "cell_type": "code",
      "source": [
        "pip install pomegranate"
      ],
      "metadata": {
        "colab": {
          "base_uri": "https://localhost:8080/"
        },
        "id": "LbGkpD5z_ikP",
        "outputId": "19da8788-d6d3-4ffd-e446-e240e33fe9e9"
      },
      "execution_count": 3,
      "outputs": [
        {
          "output_type": "stream",
          "name": "stdout",
          "text": [
            "Looking in indexes: https://pypi.org/simple, https://us-python.pkg.dev/colab-wheels/public/simple/\n",
            "Requirement already satisfied: pomegranate in /usr/local/lib/python3.8/dist-packages (0.14.8)\n",
            "Requirement already satisfied: networkx>=2.4 in /usr/local/lib/python3.8/dist-packages (from pomegranate) (2.8.8)\n",
            "Requirement already satisfied: scipy>=0.17.0 in /usr/local/lib/python3.8/dist-packages (from pomegranate) (1.7.3)\n",
            "Requirement already satisfied: pyyaml in /usr/local/lib/python3.8/dist-packages (from pomegranate) (6.0)\n",
            "Requirement already satisfied: joblib>=0.9.0b4 in /usr/local/lib/python3.8/dist-packages (from pomegranate) (1.2.0)\n",
            "Requirement already satisfied: numpy>=1.20.0 in /usr/local/lib/python3.8/dist-packages (from pomegranate) (1.21.6)\n"
          ]
        }
      ]
    },
    {
      "cell_type": "code",
      "source": [
        "from pomegranate import*\n",
        "import numpy as np\n",
        "start=DiscreteDistribution({\"pizza\":1,\"veg\":0})\n",
        "Transitions=ConditionalProbabilityTable([[\"pizza\",\"pizza\",0.75],[\"pizza\",\"veg\",0.25],[\"veg\",\"veg\",0.6],[\"veg\",\"pizza\",0.4]],[start])\n",
        "model=MarkovChain([start,Transitions])\n",
        "Random_samples=model.sample(2)\n",
        "print(Random_samples)\n",
        "log_probability=model.log_probability(Random_samples)\n",
        "probability_of_Occurance=np.exp(log_probability)\n",
        "probability_of_Occurance\n",
        "log_probability_Food_sequence=model.log_probability([\"pizza\",\"veg\",\"pizza\"])\n",
        "probability_of_Food=np.exp(log_probability_Food_sequence)\n",
        "print(probability_of_Food)"
      ],
      "metadata": {
        "colab": {
          "base_uri": "https://localhost:8080/"
        },
        "id": "cpcweBcTAtnp",
        "outputId": "880c1ca6-e504-4bef-e7b8-712e4acdf1fe"
      },
      "execution_count": 26,
      "outputs": [
        {
          "output_type": "stream",
          "name": "stdout",
          "text": [
            "['pizza', 'pizza']\n",
            "0.10000000000000002\n"
          ]
        }
      ]
    },
    {
      "cell_type": "code",
      "source": [],
      "metadata": {
        "id": "GSV8Zs6xB-c1"
      },
      "execution_count": null,
      "outputs": []
    }
  ]
}