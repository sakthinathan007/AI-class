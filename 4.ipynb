{
 "cells": [
  {
   "cell_type": "markdown",
   "id": "57a7968c",
   "metadata": {},
   "source": [
    "# Function\n",
    "\n",
    "def <function_name>(paramateres):                                                                                                                           \n",
    "    Doc string                                                                                                                                                           \n",
    "    <statemenr(s)                                                                                                 "
   ]
  },
  {
   "cell_type": "code",
   "execution_count": 3,
   "id": "e0c4cc7f",
   "metadata": {},
   "outputs": [],
   "source": [
    "def Add(a,b):\n",
    "    c=a+b\n",
    "    return c"
   ]
  },
  {
   "cell_type": "code",
   "execution_count": 5,
   "id": "e65ea426",
   "metadata": {},
   "outputs": [
    {
     "data": {
      "text/plain": [
       "9"
      ]
     },
     "execution_count": 5,
     "metadata": {},
     "output_type": "execute_result"
    }
   ],
   "source": [
    "Add(5,4)"
   ]
  },
  {
   "cell_type": "code",
   "execution_count": 8,
   "id": "51b2395f",
   "metadata": {},
   "outputs": [],
   "source": [
    "def Multiple(a,b):\n",
    "    c=a*b\n",
    "    return c"
   ]
  },
  {
   "cell_type": "code",
   "execution_count": 9,
   "id": "fd902517",
   "metadata": {},
   "outputs": [
    {
     "data": {
      "text/plain": [
       "6"
      ]
     },
     "execution_count": 9,
     "metadata": {},
     "output_type": "execute_result"
    }
   ],
   "source": [
    "Multiple(2,3)"
   ]
  },
  {
   "cell_type": "code",
   "execution_count": 14,
   "id": "609f029f",
   "metadata": {},
   "outputs": [],
   "source": [
    "def Add(a,b,c):\n",
    "    d=a+b+c\n",
    "    return d"
   ]
  },
  {
   "cell_type": "code",
   "execution_count": 15,
   "id": "8d70bbe4",
   "metadata": {},
   "outputs": [
    {
     "data": {
      "text/plain": [
       "15"
      ]
     },
     "execution_count": 15,
     "metadata": {},
     "output_type": "execute_result"
    }
   ],
   "source": [
    "Add(5,6,4)"
   ]
  },
  {
   "cell_type": "code",
   "execution_count": 20,
   "id": "91f11641",
   "metadata": {},
   "outputs": [],
   "source": [
    "def fd(amt,perc,dur):\n",
    "    interest=amt*perc\n",
    "    Tintr=interest*dur\n",
    "    print(\"Annual intereest is {}\".format(interest))\n",
    "    print(\"Total interest gained is {}\".format(Tintr))"
   ]
  },
  {
   "cell_type": "code",
   "execution_count": 21,
   "id": "552f2d00",
   "metadata": {},
   "outputs": [
    {
     "name": "stdout",
     "output_type": "stream",
     "text": [
      "Annual intereest is 60000.0\n",
      "Total interest gained is 240000.0\n"
     ]
    }
   ],
   "source": [
    "fd (100000,0.6,4)"
   ]
  },
  {
   "cell_type": "code",
   "execution_count": 31,
   "id": "7721caf5",
   "metadata": {},
   "outputs": [],
   "source": [
    "def savings(amt,perc):\n",
    "    interest=amt*perc\n",
    "    print(\"Annual intereest is {}\".format(interest))"
   ]
  },
  {
   "cell_type": "code",
   "execution_count": 34,
   "id": "787e1e10",
   "metadata": {},
   "outputs": [
    {
     "name": "stdout",
     "output_type": "stream",
     "text": [
      "Annual intereest is 16000.0\n"
     ]
    }
   ],
   "source": [
    "savings(20000,0.8)"
   ]
  },
  {
   "cell_type": "code",
   "execution_count": 6,
   "id": "4868a5ad",
   "metadata": {},
   "outputs": [
    {
     "name": "stdout",
     "output_type": "stream",
     "text": [
      "Enter Account TypeSB\n",
      "Enter Amount Deposited : 20000\n",
      "The Annual Interest is 8000.0\n"
     ]
    }
   ],
   "source": [
    "def intrest(typ):\n",
    "    if typ =='SB':\n",
    "        amt=int(input(\"Enter Amount Deposited : \"))\n",
    "        intr=amt*0.4\n",
    "        print(f\"The Annual Interest is {intr}\")\n",
    "    elif typ =='FD':\n",
    "        amt=int(input(\"Enter Amount Deposited : \"))\n",
    "        DUR=int(input(\"Enter DURATION : \"))\n",
    "        Total=amt*0.6*DUR\n",
    "        print(f\"The Intrest is {Total}\")\n",
    "    else:\n",
    "        print(\"Enter Valid Type\")\n",
    "dp= input(\"Enter Account Type\")\n",
    "intrest(dp) \n"
   ]
  },
  {
   "cell_type": "code",
   "execution_count": null,
   "id": "28e4dcf3",
   "metadata": {},
   "outputs": [],
   "source": []
  }
 ],
 "metadata": {
  "kernelspec": {
   "display_name": "Python 3 (ipykernel)",
   "language": "python",
   "name": "python3"
  },
  "language_info": {
   "codemirror_mode": {
    "name": "ipython",
    "version": 3
   },
   "file_extension": ".py",
   "mimetype": "text/x-python",
   "name": "python",
   "nbconvert_exporter": "python",
   "pygments_lexer": "ipython3",
   "version": "3.9.13"
  }
 },
 "nbformat": 4,
 "nbformat_minor": 5
}
