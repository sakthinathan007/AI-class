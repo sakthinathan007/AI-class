{
 "cells": [
  {
   "cell_type": "markdown",
   "id": "4d041028",
   "metadata": {},
   "source": [
    "# BINARY SEARCH ALGORITHM\n"
   ]
  },
  {
   "cell_type": "code",
   "execution_count": 23,
   "id": "b9257d2c",
   "metadata": {},
   "outputs": [],
   "source": [
    "data = [10,17,5,11,50,27,3,6,31,45,23,32,55]"
   ]
  },
  {
   "cell_type": "code",
   "execution_count": 24,
   "id": "d8880542",
   "metadata": {},
   "outputs": [
    {
     "name": "stdout",
     "output_type": "stream",
     "text": [
      "[10, 17, 5, 11, 50, 27, 3, 6, 31, 45, 23, 32, 55]\n"
     ]
    }
   ],
   "source": [
    "print(data)"
   ]
  },
  {
   "cell_type": "code",
   "execution_count": 35,
   "id": "5008af7a",
   "metadata": {},
   "outputs": [],
   "source": [
    "data.sort(reverse = True)"
   ]
  },
  {
   "cell_type": "code",
   "execution_count": 36,
   "id": "7da315e8",
   "metadata": {},
   "outputs": [
    {
     "name": "stdout",
     "output_type": "stream",
     "text": [
      "[55, 50, 45, 32, 31, 27, 23, 17, 11, 10, 6, 5, 3]\n"
     ]
    }
   ],
   "source": [
    "print(data)"
   ]
  },
  {
   "cell_type": "code",
   "execution_count": 37,
   "id": "cad5aa2f",
   "metadata": {},
   "outputs": [],
   "source": [
    "data.sort()"
   ]
  },
  {
   "cell_type": "code",
   "execution_count": 38,
   "id": "486cf46d",
   "metadata": {},
   "outputs": [
    {
     "name": "stdout",
     "output_type": "stream",
     "text": [
      "[3, 5, 6, 10, 11, 17, 23, 27, 31, 32, 45, 50, 55]\n"
     ]
    }
   ],
   "source": [
    "print(data)"
   ]
  },
  {
   "cell_type": "code",
   "execution_count": 39,
   "id": "0122fd56",
   "metadata": {},
   "outputs": [
    {
     "name": "stdout",
     "output_type": "stream",
     "text": [
      "10\n"
     ]
    }
   ],
   "source": [
    "elem=int(input())"
   ]
  },
  {
   "cell_type": "code",
   "execution_count": 40,
   "id": "5ca4c230",
   "metadata": {},
   "outputs": [],
   "source": [
    "def binary_search(data,elem):\n",
    "    \n",
    "    low = 0\n",
    "    high = len(data) -1\n",
    "    \n",
    "    while low <= high:\n",
    "        \n",
    "        middle = (low + high)//2\n",
    "        \n",
    "        if data[middle] == elem:\n",
    "            print(f\"The Searching Element {elem} is present at index value {middle} in dataset\")\n",
    "            break\n",
    "\n",
    "        elif data[middle] > elem:\n",
    "            high = middle - 1\n",
    "                  \n",
    "        else:\n",
    "            low = middle + 1\n",
    "    if data[middle] != elem:\n",
    "        print(f\"The Searching Element {elem} is not present in the dataset\")  \n",
    "        return -1          "
   ]
  },
  {
   "cell_type": "code",
   "execution_count": 41,
   "id": "6fc5ac97",
   "metadata": {},
   "outputs": [
    {
     "name": "stdout",
     "output_type": "stream",
     "text": [
      "The Searching Element 10 is present at index value 3 in dataset\n"
     ]
    }
   ],
   "source": [
    "binary_search(data,elem)"
   ]
  },
  {
   "cell_type": "code",
   "execution_count": null,
   "id": "f7883584",
   "metadata": {},
   "outputs": [],
   "source": []
  }
 ],
 "metadata": {
  "kernelspec": {
   "display_name": "Python 3 (ipykernel)",
   "language": "python",
   "name": "python3"
  },
  "language_info": {
   "codemirror_mode": {
    "name": "ipython",
    "version": 3
   },
   "file_extension": ".py",
   "mimetype": "text/x-python",
   "name": "python",
   "nbconvert_exporter": "python",
   "pygments_lexer": "ipython3",
   "version": "3.9.13"
  }
 },
 "nbformat": 4,
 "nbformat_minor": 5
}
